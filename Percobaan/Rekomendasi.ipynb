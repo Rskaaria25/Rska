{
  "cells": [
    {
      "cell_type": "code",
      "execution_count": null,
      "metadata": {
        "id": "rZSMgfjReHjH"
      },
      "outputs": [],
      "source": [
        "!pip install tensorflowjs\n",
        "!pip install --upgrade tensorflowjs\n",
        "!import tensorflow as tf"
      ]
    },
    {
      "cell_type": "code",
      "source": [
        "import pandas as pd\n",
        "import tensorflow as tf\n",
        "from sklearn.model_selection import train_test_split\n",
        "from sklearn.preprocessing import LabelEncoder, OneHotEncoder\n",
        "from tensorflow.keras.models import Sequential\n",
        "from tensorflow.keras.layers import Dense"
      ],
      "metadata": {
        "id": "8UzOWH0VgPAz"
      },
      "execution_count": 125,
      "outputs": []
    },
    {
      "cell_type": "code",
      "source": [
        "# Membaca dataset dari file CSV\n",
        "data = pd.read_csv('/content/tes.csv')\n",
        "print(data.head(5))"
      ],
      "metadata": {
        "colab": {
          "base_uri": "https://localhost:8080/"
        },
        "id": "Lo5bpADZgSOz",
        "outputId": "be22dc5b-fc6b-4211-936d-a62fb849f4d5"
      },
      "execution_count": 126,
      "outputs": [
        {
          "output_type": "stream",
          "name": "stdout",
          "text": [
            "   foodId                 Nama         Tipe Tipe 1  Tipe 2\n",
            "0       1          Sosis Bakar  ayam-daging   ayam  daging\n",
            "1       2  Ngohiong Ayam Udang  ayam-daging   ayam  daging\n",
            "2       3           Rawon Ayam  ayam-daging   ayam  daging\n",
            "3       4   Usus Goreng Crispy  ayam-daging   ayam  daging\n",
            "4       5      Ceker Rica Rica  ayam-daging   ayam  daging\n"
          ]
        }
      ]
    },
    {
      "cell_type": "code",
      "source": [
        "# Mengubah kolom tipe menjadi angka menggunakan LabelEncoder\n",
        "label_encoder = LabelEncoder()\n",
        "data['tipe_encoded'] = label_encoder.fit_transform(data['Tipe'])\n",
        "\n",
        "print(data)"
      ],
      "metadata": {
        "id": "ZOLoSaxKgYl6"
      },
      "execution_count": null,
      "outputs": []
    },
    {
      "cell_type": "code",
      "source": [
        "# Melakukan preprocessing pada dataset\n",
        "onehot_encoder = OneHotEncoder(sparse=False)\n",
        "tipe_encoded = data['tipe_encoded'].values.reshape(-1, 1)\n",
        "tipe_encoded = onehot_encoder.fit_transform(tipe_encoded)\n",
        "tipe_encoded_df = pd.DataFrame(tipe_encoded, columns=['tipe_' + str(i) for i in range(tipe_encoded.shape[1])])\n",
        "data = pd.concat([data, tipe_encoded_df], axis=1)"
      ],
      "metadata": {
        "colab": {
          "base_uri": "https://localhost:8080/"
        },
        "id": "I5lYdsdxg1BC",
        "outputId": "bb3f177e-93f1-4182-f23e-db1f6a32c199"
      },
      "execution_count": 128,
      "outputs": [
        {
          "output_type": "stream",
          "name": "stderr",
          "text": [
            "/usr/local/lib/python3.10/dist-packages/sklearn/preprocessing/_encoders.py:868: FutureWarning: `sparse` was renamed to `sparse_output` in version 1.2 and will be removed in 1.4. `sparse_output` is ignored unless you leave `sparse` to its default value.\n",
            "  warnings.warn(\n"
          ]
        }
      ]
    },
    {
      "cell_type": "code",
      "source": [
        "# Memisahkan fitur dan label\n",
        "X = data.drop(['foodId', 'Nama', 'Tipe', 'Tipe 1', 'Tipe 2', 'tipe_encoded'], axis=1)\n",
        "y = data['tipe_encoded']"
      ],
      "metadata": {
        "id": "vTWNoNsEg7f5"
      },
      "execution_count": 129,
      "outputs": []
    },
    {
      "cell_type": "code",
      "source": [
        "# Membagi data menjadi data latih dan data uji\n",
        "X_train, X_test, y_train, y_test = train_test_split(X, y, test_size=0.2, random_state=42)\n"
      ],
      "metadata": {
        "id": "RLr99iRvhD6i"
      },
      "execution_count": 130,
      "outputs": []
    },
    {
      "cell_type": "code",
      "source": [
        "# Membangun model\n",
        "model = Sequential()\n",
        "model.add(Dense(64, activation='relu', input_shape=(X_train.shape[1],)))\n",
        "model.add(Dense(32, activation='relu'))\n",
        "model.add(Dense(y_train.nunique(), activation='softmax'))  # Jumlah kelas sesuai dengan jumlah tipe makanan yang unik"
      ],
      "metadata": {
        "id": "HDiG4U_Uhchb"
      },
      "execution_count": 131,
      "outputs": []
    },
    {
      "cell_type": "code",
      "source": [
        "# Mengompilasi model\n",
        "model.compile(loss='sparse_categorical_crossentropy', optimizer='adam', metrics=['accuracy'])"
      ],
      "metadata": {
        "id": "qREVjbHnheFY"
      },
      "execution_count": 132,
      "outputs": []
    },
    {
      "cell_type": "code",
      "source": [
        "# Melatih model\n",
        "model.fit(X_train, y_train, epochs=10, batch_size=32, verbose=1)"
      ],
      "metadata": {
        "colab": {
          "base_uri": "https://localhost:8080/"
        },
        "id": "iYwUDkGohgvA",
        "outputId": "a8302322-fbe6-4879-9b84-09d58c534ac4"
      },
      "execution_count": 133,
      "outputs": [
        {
          "output_type": "stream",
          "name": "stdout",
          "text": [
            "Epoch 1/10\n",
            "32/32 [==============================] - 1s 2ms/step - loss: 2.3208 - accuracy: 0.5747\n",
            "Epoch 2/10\n",
            "32/32 [==============================] - 0s 2ms/step - loss: 1.9254 - accuracy: 0.9037\n",
            "Epoch 3/10\n",
            "32/32 [==============================] - 0s 2ms/step - loss: 1.3368 - accuracy: 0.9037\n",
            "Epoch 4/10\n",
            "32/32 [==============================] - 0s 2ms/step - loss: 0.7329 - accuracy: 0.9194\n",
            "Epoch 5/10\n",
            "32/32 [==============================] - 0s 2ms/step - loss: 0.3719 - accuracy: 0.9548\n",
            "Epoch 6/10\n",
            "32/32 [==============================] - 0s 3ms/step - loss: 0.2104 - accuracy: 0.9754\n",
            "Epoch 7/10\n",
            "32/32 [==============================] - 0s 3ms/step - loss: 0.1337 - accuracy: 0.9941\n",
            "Epoch 8/10\n",
            "32/32 [==============================] - 0s 3ms/step - loss: 0.0906 - accuracy: 0.9941\n",
            "Epoch 9/10\n",
            "32/32 [==============================] - 0s 3ms/step - loss: 0.0642 - accuracy: 0.9941\n",
            "Epoch 10/10\n",
            "32/32 [==============================] - 0s 3ms/step - loss: 0.0472 - accuracy: 0.9941\n"
          ]
        },
        {
          "output_type": "execute_result",
          "data": {
            "text/plain": [
              "<keras.callbacks.History at 0x7faa61be2650>"
            ]
          },
          "metadata": {},
          "execution_count": 133
        }
      ]
    },
    {
      "cell_type": "code",
      "source": [
        "# Evaluasi model\n",
        "_, accuracy = model.evaluate(X_test, y_test, verbose=0)\n",
        "print('Akurasi model:', accuracy)"
      ],
      "metadata": {
        "colab": {
          "base_uri": "https://localhost:8080/"
        },
        "id": "VmD4BNX_hkVQ",
        "outputId": "d23fe1a6-0e68-4fa1-aa75-56c1ca45acb2"
      },
      "execution_count": 134,
      "outputs": [
        {
          "output_type": "stream",
          "name": "stdout",
          "text": [
            "Akurasi model: 0.9921568632125854\n"
          ]
        }
      ]
    },
    {
      "cell_type": "code",
      "source": [
        "def recommend_food(model, data, food_id, food_name, num_recommendations=10):\n",
        "    # Find the row in the data based on the food_id\n",
        "    food_row = data[data['foodId'] == food_id]\n",
        "    \n",
        "    # Create a DataFrame with the input features\n",
        "    input_features = pd.DataFrame({\n",
        "        'foodId': [food_id],\n",
        "        'Nama': [food_name],\n",
        "        'Tipe': [food_row['Tipe'].values[0]]\n",
        "    })\n",
        "    \n",
        "    # Preprocess the input features\n",
        "    input_features['tipe_encoded'] = label_encoder.transform(input_features['Tipe'])\n",
        "    input_features_encoded = onehot_encoder.transform(input_features['tipe_encoded'].values.reshape(-1, 1))\n",
        "    \n",
        "    # Predict the food type\n",
        "    prediction = model.predict(input_features_encoded)\n",
        "    \n",
        "    # Decode the predicted food type\n",
        "    predicted_food_type = label_encoder.inverse_transform([prediction.argmax()])[0]\n",
        "    \n",
        "    # Get recommended foods of the predicted type\n",
        "    recommended_foods = data[data['Tipe'] == predicted_food_type]['Nama'].tolist()\n",
        "    \n",
        "    # Remove the input food from the recommended list\n",
        "    recommended_foods = [food for food in recommended_foods if food != food_name]\n",
        "    \n",
        "    # Return the top recommendations\n",
        "    top_recommendations = recommended_foods[:num_recommendations]\n",
        "    \n",
        "    return top_recommendations\n",
        "\n"
      ],
      "metadata": {
        "id": "JFw01QXBn2y1"
      },
      "execution_count": 135,
      "outputs": []
    },
    {
      "cell_type": "code",
      "source": [
        "food_id = 280\n",
        "food_name = 'Sate Kerang'\n",
        "\n",
        "top_recommendations = recommend_food(model, data, food_id, food_name, num_recommendations=10)\n",
        "print(\"Top 10 Recommended foods: \")\n",
        "for i, food in enumerate(top_recommendations, 1):\n",
        "    print(f\"{i}. {food}\")"
      ],
      "metadata": {
        "colab": {
          "base_uri": "https://localhost:8080/"
        },
        "id": "_JHkhNaon5lr",
        "outputId": "1ea81c7c-4c64-472a-f461-167825c447c2"
      },
      "execution_count": 136,
      "outputs": [
        {
          "output_type": "stream",
          "name": "stderr",
          "text": [
            "WARNING:tensorflow:5 out of the last 15 calls to <function Model.make_predict_function.<locals>.predict_function at 0x7faa53c65bd0> triggered tf.function retracing. Tracing is expensive and the excessive number of tracings could be due to (1) creating @tf.function repeatedly in a loop, (2) passing tensors with different shapes, (3) passing Python objects instead of tensors. For (1), please define your @tf.function outside of the loop. For (2), @tf.function has reduce_retracing=True option that can avoid unnecessary retracing. For (3), please refer to https://www.tensorflow.org/guide/function#controlling_retracing and https://www.tensorflow.org/api_docs/python/tf/function for  more details.\n"
          ]
        },
        {
          "output_type": "stream",
          "name": "stdout",
          "text": [
            "1/1 [==============================] - 0s 59ms/step\n",
            "Top 10 Recommended foods: \n",
            "1. Ikan Mas Pindang\n",
            "2. Ikan Mujair Goreng\n",
            "3. Ikan Bandeng Asam Manis\n",
            "4. Ikan Mas Bakar\n",
            "5. Ikan Mas Pesmol\n",
            "6. Ikan Bandeng Goreng\n",
            "7. Ikan Bandeng Pepes\n",
            "8. Ikan Mas Goreng\n",
            "9. Ikan Bandeng Gulai\n",
            "10. Ikan Kembung Pesmol\n"
          ]
        }
      ]
    },
    {
      "cell_type": "code",
      "source": [
        "saved_model_path = \"./my_model.h5\"\n",
        "model.save(saved_model_path)"
      ],
      "metadata": {
        "id": "x3SFbFGq8bVN"
      },
      "execution_count": 137,
      "outputs": []
    },
    {
      "cell_type": "code",
      "source": [
        "! tensorflowjs_converter \\\n",
        "    --input_format=keras \\\n",
        "    {saved_model_path} \\\n",
        "    \"./\""
      ],
      "metadata": {
        "colab": {
          "base_uri": "https://localhost:8080/"
        },
        "id": "4f-EMVjT8eoh",
        "outputId": "dca0625b-128f-4a75-f9dc-c2499d7de97d"
      },
      "execution_count": 138,
      "outputs": [
        {
          "output_type": "stream",
          "name": "stdout",
          "text": [
            "2023-06-05 10:00:27.390694: W tensorflow/compiler/tf2tensorrt/utils/py_utils.cc:38] TF-TRT Warning: Could not find TensorRT\n"
          ]
        }
      ]
    }
  ],
  "metadata": {
    "colab": {
      "provenance": []
    },
    "kernelspec": {
      "display_name": "Python 3",
      "name": "python3"
    },
    "language_info": {
      "name": "python"
    }
  },
  "nbformat": 4,
  "nbformat_minor": 0
}