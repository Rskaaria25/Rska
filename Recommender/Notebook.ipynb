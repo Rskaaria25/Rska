{
  "nbformat": 4,
  "nbformat_minor": 0,
  "metadata": {
    "colab": {
      "provenance": []
    },
    "kernelspec": {
      "name": "python3",
      "display_name": "Python 3"
    },
    "language_info": {
      "name": "python"
    }
  },
  "cells": [
    {
      "cell_type": "code",
      "execution_count": 1,
      "metadata": {
        "id": "yi5FNzF9KTgP"
      },
      "outputs": [],
      "source": [
        "import pandas as pd\n",
        "import numpy as np\n",
        "import random\n",
        "import tensorflow as tf\n",
        "from sklearn.feature_extraction.text import TfidfVectorizer\n",
        "from sklearn.metrics.pairwise import cosine_similarity"
      ]
    },
    {
      "cell_type": "code",
      "source": [
        "data = pd.read_csv('/content/food_test.csv')\n",
        "\n",
        "data.head()"
      ],
      "metadata": {
        "colab": {
          "base_uri": "https://localhost:8080/",
          "height": 206
        },
        "id": "b7LX-FaCKaU-",
        "outputId": "d2a95c31-7927-4e69-dca1-ea5b5221c4fa"
      },
      "execution_count": 2,
      "outputs": [
        {
          "output_type": "execute_result",
          "data": {
            "text/plain": [
              "   foodId                 Nama Tipe 1  Tipe 2  Tipe 3\n",
              "0       1          Sosis Bakar   ayam  daging  daging\n",
              "1       2  Ngohiong Ayam Udang   ayam  daging  daging\n",
              "2       3           Rawon Ayam   ayam  daging  daging\n",
              "3       4   Usus Goreng Crispy   ayam  daging  daging\n",
              "4       5      Ceker Rica Rica   ayam  daging  daging"
            ],
            "text/html": [
              "\n",
              "  <div id=\"df-e80499cd-9847-4b41-a16e-071d4d221f6f\">\n",
              "    <div class=\"colab-df-container\">\n",
              "      <div>\n",
              "<style scoped>\n",
              "    .dataframe tbody tr th:only-of-type {\n",
              "        vertical-align: middle;\n",
              "    }\n",
              "\n",
              "    .dataframe tbody tr th {\n",
              "        vertical-align: top;\n",
              "    }\n",
              "\n",
              "    .dataframe thead th {\n",
              "        text-align: right;\n",
              "    }\n",
              "</style>\n",
              "<table border=\"1\" class=\"dataframe\">\n",
              "  <thead>\n",
              "    <tr style=\"text-align: right;\">\n",
              "      <th></th>\n",
              "      <th>foodId</th>\n",
              "      <th>Nama</th>\n",
              "      <th>Tipe 1</th>\n",
              "      <th>Tipe 2</th>\n",
              "      <th>Tipe 3</th>\n",
              "    </tr>\n",
              "  </thead>\n",
              "  <tbody>\n",
              "    <tr>\n",
              "      <th>0</th>\n",
              "      <td>1</td>\n",
              "      <td>Sosis Bakar</td>\n",
              "      <td>ayam</td>\n",
              "      <td>daging</td>\n",
              "      <td>daging</td>\n",
              "    </tr>\n",
              "    <tr>\n",
              "      <th>1</th>\n",
              "      <td>2</td>\n",
              "      <td>Ngohiong Ayam Udang</td>\n",
              "      <td>ayam</td>\n",
              "      <td>daging</td>\n",
              "      <td>daging</td>\n",
              "    </tr>\n",
              "    <tr>\n",
              "      <th>2</th>\n",
              "      <td>3</td>\n",
              "      <td>Rawon Ayam</td>\n",
              "      <td>ayam</td>\n",
              "      <td>daging</td>\n",
              "      <td>daging</td>\n",
              "    </tr>\n",
              "    <tr>\n",
              "      <th>3</th>\n",
              "      <td>4</td>\n",
              "      <td>Usus Goreng Crispy</td>\n",
              "      <td>ayam</td>\n",
              "      <td>daging</td>\n",
              "      <td>daging</td>\n",
              "    </tr>\n",
              "    <tr>\n",
              "      <th>4</th>\n",
              "      <td>5</td>\n",
              "      <td>Ceker Rica Rica</td>\n",
              "      <td>ayam</td>\n",
              "      <td>daging</td>\n",
              "      <td>daging</td>\n",
              "    </tr>\n",
              "  </tbody>\n",
              "</table>\n",
              "</div>\n",
              "      <button class=\"colab-df-convert\" onclick=\"convertToInteractive('df-e80499cd-9847-4b41-a16e-071d4d221f6f')\"\n",
              "              title=\"Convert this dataframe to an interactive table.\"\n",
              "              style=\"display:none;\">\n",
              "        \n",
              "  <svg xmlns=\"http://www.w3.org/2000/svg\" height=\"24px\"viewBox=\"0 0 24 24\"\n",
              "       width=\"24px\">\n",
              "    <path d=\"M0 0h24v24H0V0z\" fill=\"none\"/>\n",
              "    <path d=\"M18.56 5.44l.94 2.06.94-2.06 2.06-.94-2.06-.94-.94-2.06-.94 2.06-2.06.94zm-11 1L8.5 8.5l.94-2.06 2.06-.94-2.06-.94L8.5 2.5l-.94 2.06-2.06.94zm10 10l.94 2.06.94-2.06 2.06-.94-2.06-.94-.94-2.06-.94 2.06-2.06.94z\"/><path d=\"M17.41 7.96l-1.37-1.37c-.4-.4-.92-.59-1.43-.59-.52 0-1.04.2-1.43.59L10.3 9.45l-7.72 7.72c-.78.78-.78 2.05 0 2.83L4 21.41c.39.39.9.59 1.41.59.51 0 1.02-.2 1.41-.59l7.78-7.78 2.81-2.81c.8-.78.8-2.07 0-2.86zM5.41 20L4 18.59l7.72-7.72 1.47 1.35L5.41 20z\"/>\n",
              "  </svg>\n",
              "      </button>\n",
              "      \n",
              "  <style>\n",
              "    .colab-df-container {\n",
              "      display:flex;\n",
              "      flex-wrap:wrap;\n",
              "      gap: 12px;\n",
              "    }\n",
              "\n",
              "    .colab-df-convert {\n",
              "      background-color: #E8F0FE;\n",
              "      border: none;\n",
              "      border-radius: 50%;\n",
              "      cursor: pointer;\n",
              "      display: none;\n",
              "      fill: #1967D2;\n",
              "      height: 32px;\n",
              "      padding: 0 0 0 0;\n",
              "      width: 32px;\n",
              "    }\n",
              "\n",
              "    .colab-df-convert:hover {\n",
              "      background-color: #E2EBFA;\n",
              "      box-shadow: 0px 1px 2px rgba(60, 64, 67, 0.3), 0px 1px 3px 1px rgba(60, 64, 67, 0.15);\n",
              "      fill: #174EA6;\n",
              "    }\n",
              "\n",
              "    [theme=dark] .colab-df-convert {\n",
              "      background-color: #3B4455;\n",
              "      fill: #D2E3FC;\n",
              "    }\n",
              "\n",
              "    [theme=dark] .colab-df-convert:hover {\n",
              "      background-color: #434B5C;\n",
              "      box-shadow: 0px 1px 3px 1px rgba(0, 0, 0, 0.15);\n",
              "      filter: drop-shadow(0px 1px 2px rgba(0, 0, 0, 0.3));\n",
              "      fill: #FFFFFF;\n",
              "    }\n",
              "  </style>\n",
              "\n",
              "      <script>\n",
              "        const buttonEl =\n",
              "          document.querySelector('#df-e80499cd-9847-4b41-a16e-071d4d221f6f button.colab-df-convert');\n",
              "        buttonEl.style.display =\n",
              "          google.colab.kernel.accessAllowed ? 'block' : 'none';\n",
              "\n",
              "        async function convertToInteractive(key) {\n",
              "          const element = document.querySelector('#df-e80499cd-9847-4b41-a16e-071d4d221f6f');\n",
              "          const dataTable =\n",
              "            await google.colab.kernel.invokeFunction('convertToInteractive',\n",
              "                                                     [key], {});\n",
              "          if (!dataTable) return;\n",
              "\n",
              "          const docLinkHtml = 'Like what you see? Visit the ' +\n",
              "            '<a target=\"_blank\" href=https://colab.research.google.com/notebooks/data_table.ipynb>data table notebook</a>'\n",
              "            + ' to learn more about interactive tables.';\n",
              "          element.innerHTML = '';\n",
              "          dataTable['output_type'] = 'display_data';\n",
              "          await google.colab.output.renderOutput(dataTable, element);\n",
              "          const docLink = document.createElement('div');\n",
              "          docLink.innerHTML = docLinkHtml;\n",
              "          element.appendChild(docLink);\n",
              "        }\n",
              "      </script>\n",
              "    </div>\n",
              "  </div>\n",
              "  "
            ]
          },
          "metadata": {},
          "execution_count": 2
        }
      ]
    },
    {
      "cell_type": "code",
      "source": [
        "# preprocessing the dataset\n",
        "data['Tipe'] = data['Tipe 1'] + ',' + data['Tipe 2'] + ',' + data['Tipe 3']\n",
        "data['Tipe'] = data['Tipe'].str.lower() "
      ],
      "metadata": {
        "id": "mU4L9_i3KiD5"
      },
      "execution_count": 3,
      "outputs": []
    },
    {
      "cell_type": "code",
      "source": [
        "# Vectorizing pre-processed food type plots using TF-IDF\n",
        "tfidf = TfidfVectorizer()\n",
        "tfidf_matrix = tfidf.fit_transform(data['Tipe'])"
      ],
      "metadata": {
        "id": "NP9b6f_cLEBR"
      },
      "execution_count": 4,
      "outputs": []
    },
    {
      "cell_type": "code",
      "source": [
        "# Finding cosine similarity between vectors\n",
        "similarity_matrix = cosine_similarity(tfidf_matrix)\n",
        "similarity_matrix"
      ],
      "metadata": {
        "colab": {
          "base_uri": "https://localhost:8080/"
        },
        "id": "LuXvz3YeLWHx",
        "outputId": "e3817cd7-ac66-4fc6-deb7-a66e2f670ead"
      },
      "execution_count": 5,
      "outputs": [
        {
          "output_type": "execute_result",
          "data": {
            "text/plain": [
              "array([[1., 1., 1., ..., 0., 0., 0.],\n",
              "       [1., 1., 1., ..., 0., 0., 0.],\n",
              "       [1., 1., 1., ..., 0., 0., 0.],\n",
              "       ...,\n",
              "       [0., 0., 0., ..., 1., 1., 1.],\n",
              "       [0., 0., 0., ..., 1., 1., 1.],\n",
              "       [0., 0., 0., ..., 1., 1., 1.]])"
            ]
          },
          "metadata": {},
          "execution_count": 5
        }
      ]
    },
    {
      "cell_type": "code",
      "source": [
        "data.iloc[np.argmax(similarity_matrix)]"
      ],
      "metadata": {
        "colab": {
          "base_uri": "https://localhost:8080/"
        },
        "id": "XCD0k6FuLomj",
        "outputId": "facc4ca0-1ea8-439d-8341-3140ba51dc04"
      },
      "execution_count": 6,
      "outputs": [
        {
          "output_type": "execute_result",
          "data": {
            "text/plain": [
              "foodId                     1\n",
              "Nama             Sosis Bakar\n",
              "Tipe 1                  ayam\n",
              "Tipe 2                daging\n",
              "Tipe 3                daging\n",
              "Tipe      ayam,daging,daging\n",
              "Name: 0, dtype: object"
            ]
          },
          "metadata": {},
          "execution_count": 6
        }
      ]
    },
    {
      "cell_type": "code",
      "source": [
        "# define recomendation\n",
        "def get_recommendations_by_types(food_types, similarity_matrix, k=10):\n",
        "    food_indices = []\n",
        "    for food_type in food_types:\n",
        "        indices = data[data['Tipe'].str.contains(food_type)].index\n",
        "        food_indices.extend(indices)\n",
        "    food_indices = list(set(food_indices))\n",
        "    \n",
        "    similarity_scores = list(enumerate(similarity_matrix[food_indices].sum(axis=0)))\n",
        "    similarity_scores = sorted(similarity_scores, key=lambda x: x[1], reverse=True)\n",
        "    top_k_food_indices = [i for i, _ in similarity_scores[1:k+1]]\n",
        "    top_k_food_names = data.loc[top_k_food_indices, 'Nama'].values\n",
        "    return top_k_food_names"
      ],
      "metadata": {
        "id": "A-ltpGEvM28m"
      },
      "execution_count": 8,
      "outputs": []
    },
    {
      "cell_type": "code",
      "source": [
        "user_food_types = input(\"Masukkan tipe makanan (pisahkan dengan koma): \").lower().split(\",\")\n",
        "recommendations = get_recommendations_by_types(user_food_types, similarity_matrix)\n",
        "print(f\"Rekomendasi makanan berdasarkan tipe {', '.join(user_food_types)}:\")\n",
        "for i, food in enumerate(recommendations):\n",
        "    print(f\"{i+1}. {food}\")"
      ],
      "metadata": {
        "colab": {
          "base_uri": "https://localhost:8080/"
        },
        "id": "lTsp2xfdM_7s",
        "outputId": "fc8f1ece-f30c-4966-f68e-97bc489acf51"
      },
      "execution_count": 11,
      "outputs": [
        {
          "output_type": "stream",
          "name": "stdout",
          "text": [
            "Masukkan tipe makanan (pisahkan dengan koma): puding\n",
            "Rekomendasi makanan berdasarkan tipe puding:\n",
            "1. Panna Cotta Strawberry\n",
            "2. Puding Alpukat\n",
            "3. Butterscotch Pudding\n",
            "4. Puding Mozaik\n",
            "5. Kembang Tahu Wedang (Tahok)\n",
            "6. Puding Tape Ketan\n",
            "7. Puding Coklat Susu\n",
            "8. Puding Lumut\n",
            "9. Puding Buah Naga\n",
            "10. Puding Kelapa Muda\n"
          ]
        }
      ]
    }
  ]
}